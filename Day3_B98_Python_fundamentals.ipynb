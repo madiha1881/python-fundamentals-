{
 "cells": [
  {
   "cell_type": "code",
   "execution_count": null,
   "id": "e31a0e2a-1166-4646-9fa0-0f5807c1ca96",
   "metadata": {},
   "outputs": [],
   "source": [
    "Continutation with string type :"
   ]
  },
  {
   "cell_type": "code",
   "execution_count": null,
   "id": "f150ea21-97cd-417f-bca6-d076f5d3baac",
   "metadata": {},
   "outputs": [],
   "source": []
  },
  {
   "cell_type": "code",
   "execution_count": 25,
   "id": "64bfe197-6bb7-4bcb-8659-c136c1bb0a15",
   "metadata": {},
   "outputs": [
    {
     "name": "stdout",
     "output_type": "stream",
     "text": [
      "dinesh\n"
     ]
    }
   ],
   "source": [
    "name = \"dinesh\"\n",
    "\n",
    "print(name)"
   ]
  },
  {
   "cell_type": "code",
   "execution_count": null,
   "id": "964e75bf-ecb7-4f51-a0c6-357d909efd69",
   "metadata": {},
   "outputs": [],
   "source": []
  },
  {
   "cell_type": "code",
   "execution_count": 3,
   "id": "d5843f84-d0c6-43ab-9e59-e4f670dbecb0",
   "metadata": {},
   "outputs": [
    {
     "data": {
      "text/plain": [
       "str"
      ]
     },
     "execution_count": 3,
     "metadata": {},
     "output_type": "execute_result"
    }
   ],
   "source": [
    "type(name)"
   ]
  },
  {
   "cell_type": "code",
   "execution_count": 27,
   "id": "f340fb74-855d-4d79-8804-9763b74f4261",
   "metadata": {},
   "outputs": [
    {
     "name": "stdout",
     "output_type": "stream",
     "text": [
      "dinesh sahu\n"
     ]
    }
   ],
   "source": [
    "fullname = \"dinesh sahu\"\n",
    "\n",
    "print(fullname)"
   ]
  },
  {
   "cell_type": "code",
   "execution_count": null,
   "id": "8283bbc2-2c1b-4fdf-a97d-e5d943acfae2",
   "metadata": {},
   "outputs": [],
   "source": [
    "#req: i want to correct the format.....?"
   ]
  },
  {
   "cell_type": "code",
   "execution_count": 29,
   "id": "5b2743ea-1e3d-4550-839e-bcdc3cc73c1c",
   "metadata": {},
   "outputs": [
    {
     "name": "stdout",
     "output_type": "stream",
     "text": [
      "Dinesh Sahu\n"
     ]
    }
   ],
   "source": [
    "print(fullname.title())"
   ]
  },
  {
   "cell_type": "code",
   "execution_count": null,
   "id": "6d735e50-3ba0-48ab-957e-13aeac77daa4",
   "metadata": {},
   "outputs": [],
   "source": [
    "# req : i want to get the full name in the capital letters"
   ]
  },
  {
   "cell_type": "code",
   "execution_count": 31,
   "id": "8a8fa054-67aa-4955-b493-8a25a9850143",
   "metadata": {},
   "outputs": [
    {
     "name": "stdout",
     "output_type": "stream",
     "text": [
      "DINESH SAHU\n"
     ]
    }
   ],
   "source": [
    "print(fullname.upper())"
   ]
  },
  {
   "cell_type": "code",
   "execution_count": null,
   "id": "d616ab32-6cca-4d98-bc5a-bd1398ea6454",
   "metadata": {},
   "outputs": [],
   "source": []
  },
  {
   "cell_type": "code",
   "execution_count": null,
   "id": "a53d33ec-6501-4bf0-8299-c87583135931",
   "metadata": {},
   "outputs": [],
   "source": [
    "# req : i want to get the full name in small case letters"
   ]
  },
  {
   "cell_type": "code",
   "execution_count": 33,
   "id": "23e05acb-35d0-4b4d-b0c0-f8fe0f97220c",
   "metadata": {},
   "outputs": [
    {
     "name": "stdout",
     "output_type": "stream",
     "text": [
      "dinesh sahu\n"
     ]
    }
   ],
   "source": [
    "print(fullname.lower())"
   ]
  },
  {
   "cell_type": "code",
   "execution_count": null,
   "id": "a49c1cd6-d0af-459f-95db-6deb4970d4c2",
   "metadata": {},
   "outputs": [],
   "source": []
  },
  {
   "cell_type": "code",
   "execution_count": null,
   "id": "5387376c-31e5-49be-8074-43710b51cda6",
   "metadata": {},
   "outputs": [],
   "source": [
    "introduction to f strings :"
   ]
  },
  {
   "cell_type": "code",
   "execution_count": null,
   "id": "7bc6a64e-b6b5-4769-bea3-618ddb76eefe",
   "metadata": {},
   "outputs": [],
   "source": [
    "general synatax of f strings"
   ]
  },
  {
   "cell_type": "code",
   "execution_count": null,
   "id": "a3d78da7-4c13-425e-9232-db5687210114",
   "metadata": {},
   "outputs": [],
   "source": [
    "f\"custom_message {placeholder1} {placeholder2}.........{placeholdern}\""
   ]
  },
  {
   "cell_type": "code",
   "execution_count": null,
   "id": "da2efed2-e48e-457d-94f0-d50ab298c7b0",
   "metadata": {},
   "outputs": [],
   "source": []
  },
  {
   "cell_type": "code",
   "execution_count": 1,
   "id": "dd702366-01df-45e3-889f-9d2c7c0229d7",
   "metadata": {},
   "outputs": [],
   "source": [
    "firstname = \"sana\"\n",
    "\n",
    "lastname = \"kauser\" "
   ]
  },
  {
   "cell_type": "code",
   "execution_count": null,
   "id": "f0641b9d-da43-4b42-b7b7-b539485e75bf",
   "metadata": {},
   "outputs": [],
   "source": [
    "# req : i want to get the full name.....?"
   ]
  },
  {
   "cell_type": "code",
   "execution_count": 3,
   "id": "e394dab3-d6d9-4328-84c4-ae108b1066b5",
   "metadata": {},
   "outputs": [
    {
     "name": "stdout",
     "output_type": "stream",
     "text": [
      "sana kauser\n"
     ]
    }
   ],
   "source": [
    "fullname = f\"{firstname} {lastname}\"\n",
    "\n",
    "print(fullname)"
   ]
  },
  {
   "cell_type": "code",
   "execution_count": null,
   "id": "dc5a84b4-f567-4028-a600-7ac08d1d17b5",
   "metadata": {},
   "outputs": [],
   "source": [
    "# req :"
   ]
  },
  {
   "cell_type": "code",
   "execution_count": 7,
   "id": "7df228b3-9aa8-4bae-9cf0-5992d17827ce",
   "metadata": {},
   "outputs": [
    {
     "name": "stdout",
     "output_type": "stream",
     "text": [
      "keep up the good work, Sana Kauser\n"
     ]
    }
   ],
   "source": [
    "message = f\"keep up the good work, {fullname.title()}\"\n",
    "\n",
    "print(message)"
   ]
  },
  {
   "cell_type": "code",
   "execution_count": null,
   "id": "40aba372-829e-4f76-a871-fadf25c6e8b1",
   "metadata": {},
   "outputs": [],
   "source": []
  },
  {
   "cell_type": "code",
   "execution_count": null,
   "id": "af8317ee-f7b5-4f25-9039-ec6c2381422c",
   "metadata": {},
   "outputs": [],
   "source": [
    "adding whitespaces to strings :"
   ]
  },
  {
   "cell_type": "code",
   "execution_count": 9,
   "id": "b73b278e-2001-48be-ae53-addefe8ccd49",
   "metadata": {},
   "outputs": [
    {
     "name": "stdout",
     "output_type": "stream",
     "text": [
      "favourite_prog_language:pythonjavac++javascriptswiftreactcpascal\n"
     ]
    }
   ],
   "source": [
    "print(\"favourite_prog_language:pythonjavac++javascriptswiftreactcpascal\")"
   ]
  },
  {
   "cell_type": "code",
   "execution_count": 11,
   "id": "d9efc4c5-2450-43e9-b6be-b75b21a8d7c5",
   "metadata": {},
   "outputs": [
    {
     "name": "stdout",
     "output_type": "stream",
     "text": [
      "favourite_prog_language:\n",
      "python\n",
      "java\n",
      "c++\n",
      "javascript\n",
      "swift\n",
      "react\n",
      "c\n",
      "pascal\n"
     ]
    }
   ],
   "source": [
    "print(\"favourite_prog_language:\\npython\\njava\\nc++\\njavascript\\nswift\\nreact\\nc\\npascal\")   #\\n=====> new Line delimiter"
   ]
  },
  {
   "cell_type": "code",
   "execution_count": 13,
   "id": "17463192-bfde-41cd-852c-e2f403d8019c",
   "metadata": {},
   "outputs": [
    {
     "name": "stdout",
     "output_type": "stream",
     "text": [
      "favourite_prog_language:\n",
      "\tpython\n",
      "\tjava\n",
      "\tc++\n",
      "\tjavascript\n",
      "\tswift\n",
      "\treact\n",
      "\tc\n",
      "\tpascal\n"
     ]
    }
   ],
   "source": [
    "print(\"favourite_prog_language:\\n\\tpython\\n\\tjava\\n\\tc++\\n\\tjavascript\\n\\tswift\\n\\treact\\n\\tc\\n\\tpascal\") #\\t======> tab delimiter"
   ]
  },
  {
   "cell_type": "code",
   "execution_count": null,
   "id": "735396d9-d748-486f-87b1-a80e3229fac7",
   "metadata": {},
   "outputs": [],
   "source": []
  }
 ],
 "metadata": {
  "kernelspec": {
   "display_name": "Python 3 (ipykernel)",
   "language": "python",
   "name": "python3"
  },
  "language_info": {
   "codemirror_mode": {
    "name": "ipython",
    "version": 3
   },
   "file_extension": ".py",
   "mimetype": "text/x-python",
   "name": "python",
   "nbconvert_exporter": "python",
   "pygments_lexer": "ipython3",
   "version": "3.12.4"
  }
 },
 "nbformat": 4,
 "nbformat_minor": 5
}
