{
 "cells": [
  {
   "cell_type": "code",
   "execution_count": 1,
   "id": "ede33195-9f1b-4c6d-b501-a33809a4d96b",
   "metadata": {},
   "outputs": [
    {
     "name": "stdout",
     "output_type": "stream",
     "text": [
      "Hello all welcome is the python programming Session!!\n"
     ]
    }
   ],
   "source": [
    "print(\"Hello all welcome is the python programming Session!!\")"
   ]
  },
  {
   "cell_type": "code",
   "execution_count": 3,
   "id": "26a37564-d554-4000-9b74-cc3d4026dd34",
   "metadata": {},
   "outputs": [
    {
     "name": "stdout",
     "output_type": "stream",
     "text": [
      "Hello World!!\n"
     ]
    }
   ],
   "source": [
    "print(\"Hello World!!\")"
   ]
  },
  {
   "cell_type": "code",
   "execution_count": null,
   "id": "604743c6-8df0-48fd-b729-b3fafc189d27",
   "metadata": {},
   "outputs": [],
   "source": []
  },
  {
   "cell_type": "code",
   "execution_count": 3,
   "id": "399a0c60-4a43-4773-a5c5-7850a4e27512",
   "metadata": {},
   "outputs": [],
   "source": [
    "#shift + enter button on the keyboard"
   ]
  },
  {
   "cell_type": "code",
   "execution_count": null,
   "id": "3084d46e-d411-4469-ba75-8f9dbf0705eb",
   "metadata": {},
   "outputs": [],
   "source": [
    "Introduction to python fundamentals"
   ]
  },
  {
   "cell_type": "code",
   "execution_count": null,
   "id": "9f019d3c-0455-467f-8e5d-3dfc2c39142a",
   "metadata": {},
   "outputs": [],
   "source": []
  },
  {
   "cell_type": "code",
   "execution_count": null,
   "id": "6238c3cf-93bb-4c6b-8791-bdba33b0cba9",
   "metadata": {},
   "outputs": [],
   "source": []
  },
  {
   "cell_type": "code",
   "execution_count": null,
   "id": "bf97d3a9-a995-4b4f-a6f0-f5756d387db5",
   "metadata": {},
   "outputs": [],
   "source": [
    "Understanding the variables in python :"
   ]
  },
  {
   "cell_type": "code",
   "execution_count": 15,
   "id": "fa470cd3-3526-451a-a8d7-b4ffd197f8ba",
   "metadata": {},
   "outputs": [],
   "source": [
    "a = 3\n",
    "\n",
    "b = 2"
   ]
  },
  {
   "cell_type": "code",
   "execution_count": 17,
   "id": "0d15a1fa-4211-4a06-8605-79d12423a933",
   "metadata": {},
   "outputs": [
    {
     "name": "stdout",
     "output_type": "stream",
     "text": [
      "5\n"
     ]
    }
   ],
   "source": [
    "c = a+b\n",
    "\n",
    "print(c)"
   ]
  },
  {
   "cell_type": "code",
   "execution_count": null,
   "id": "3f0722d6-23b2-43d9-a5b5-37ff3b94c60f",
   "metadata": {},
   "outputs": [],
   "source": []
  },
  {
   "cell_type": "code",
   "execution_count": null,
   "id": "d42c5c53-b2e7-4a95-ac26-bdc8d0ca8f8f",
   "metadata": {},
   "outputs": [],
   "source": [
    "Rules for declaring the varaibles in python :"
   ]
  },
  {
   "cell_type": "code",
   "execution_count": null,
   "id": "c54bf1b0-439f-496f-869e-4295ed4807b9",
   "metadata": {},
   "outputs": [],
   "source": [
    "Rule No - 1 : No Namespaces for declaring the variable names."
   ]
  },
  {
   "cell_type": "code",
   "execution_count": 22,
   "id": "63b0ae58-4ac0-4ed2-a999-59d2481245b3",
   "metadata": {},
   "outputs": [
    {
     "ename": "SyntaxError",
     "evalue": "invalid syntax (4051653174.py, line 1)",
     "output_type": "error",
     "traceback": [
      "\u001b[1;36m  Cell \u001b[1;32mIn[22], line 1\u001b[1;36m\u001b[0m\n\u001b[1;33m    first name = \"Faiyaz\"\u001b[0m\n\u001b[1;37m          ^\u001b[0m\n\u001b[1;31mSyntaxError\u001b[0m\u001b[1;31m:\u001b[0m invalid syntax\n"
     ]
    }
   ],
   "source": [
    "first name = \"Faiyaz\"\n",
    "\n",
    "print(first name)"
   ]
  },
  {
   "cell_type": "code",
   "execution_count": 30,
   "id": "494de4dd-43e6-4fe9-a2a4-9e7083933c76",
   "metadata": {},
   "outputs": [
    {
     "name": "stdout",
     "output_type": "stream",
     "text": [
      "Faiyaz\n"
     ]
    }
   ],
   "source": [
    "firstname = \"Faiyaz\"\n",
    "\n",
    "print(firstname)"
   ]
  },
  {
   "cell_type": "code",
   "execution_count": null,
   "id": "ae9b0478-0d37-44c3-a23a-7581db0ca079",
   "metadata": {},
   "outputs": [],
   "source": []
  },
  {
   "cell_type": "code",
   "execution_count": null,
   "id": "36240f57-5453-4c2b-9f40-c0c726c625d1",
   "metadata": {},
   "outputs": [],
   "source": [
    "Rule No 2 : A varaible name should not start with a number **"
   ]
  },
  {
   "cell_type": "code",
   "execution_count": 19,
   "id": "35a374d3-e46f-4d9c-a6b4-0345ec1c63f2",
   "metadata": {},
   "outputs": [
    {
     "ename": "SyntaxError",
     "evalue": "invalid decimal literal (2603295238.py, line 1)",
     "output_type": "error",
     "traceback": [
      "\u001b[1;36m  Cell \u001b[1;32mIn[19], line 1\u001b[1;36m\u001b[0m\n\u001b[1;33m    1name = \"David\"\u001b[0m\n\u001b[1;37m    ^\u001b[0m\n\u001b[1;31mSyntaxError\u001b[0m\u001b[1;31m:\u001b[0m invalid decimal literal\n"
     ]
    }
   ],
   "source": [
    "1name = \"David\"\n",
    "\n",
    "print(1name)"
   ]
  },
  {
   "cell_type": "code",
   "execution_count": 21,
   "id": "8433fff9-62fc-49a7-8356-8abae92e7fae",
   "metadata": {},
   "outputs": [
    {
     "name": "stdout",
     "output_type": "stream",
     "text": [
      "David\n"
     ]
    }
   ],
   "source": [
    "name1 = \"David\"\n",
    "\n",
    "print(name1)"
   ]
  },
  {
   "cell_type": "code",
   "execution_count": null,
   "id": "f6c5a53d-c2d2-43ab-8a9c-428f0ac4a825",
   "metadata": {},
   "outputs": [],
   "source": []
  },
  {
   "cell_type": "code",
   "execution_count": null,
   "id": "63f202d3-8a88-4c98-982d-cd2abd297f50",
   "metadata": {},
   "outputs": [],
   "source": [
    "Rule no 3 : A varaible name should not contain any special characters"
   ]
  },
  {
   "cell_type": "code",
   "execution_count": null,
   "id": "03e8cbf2-6d59-4be7-971f-1f9722e4fc4d",
   "metadata": {},
   "outputs": [],
   "source": []
  },
  {
   "cell_type": "code",
   "execution_count": 23,
   "id": "6c7c6f54-2583-4d8e-b084-580a0ce94f83",
   "metadata": {},
   "outputs": [
    {
     "ename": "SyntaxError",
     "evalue": "invalid syntax (3938931654.py, line 1)",
     "output_type": "error",
     "traceback": [
      "\u001b[1;36m  Cell \u001b[1;32mIn[23], line 1\u001b[1;36m\u001b[0m\n\u001b[1;33m    name@ = \"ganesh\"\u001b[0m\n\u001b[1;37m          ^\u001b[0m\n\u001b[1;31mSyntaxError\u001b[0m\u001b[1;31m:\u001b[0m invalid syntax\n"
     ]
    }
   ],
   "source": [
    "name@ = \"ganesh\"\n",
    "\n",
    "print(name@)"
   ]
  },
  {
   "cell_type": "code",
   "execution_count": null,
   "id": "c8cefc67-8580-43ee-a529-f5bbf3a67c50",
   "metadata": {},
   "outputs": [],
   "source": [
    "@ # $ % ^ & * ! ========>"
   ]
  },
  {
   "cell_type": "code",
   "execution_count": null,
   "id": "7c612574-7097-4970-9514-0fae0ed03749",
   "metadata": {},
   "outputs": [],
   "source": []
  },
  {
   "cell_type": "code",
   "execution_count": null,
   "id": "e382748c-e903-4ab8-9583-02f92e84e38f",
   "metadata": {},
   "outputs": [],
   "source": [
    "Introdution to Datatypes in python :\n",
    "\n",
    "1. Strings       =======> str\n",
    "\n",
    "2. Numbers       =======> integers (int) floats (decimals) 0,1,0.2,1.5 ====> float\n",
    "\n",
    "3. List          =======> list\n",
    "\n",
    "4. Tuple         =======> tuple\n",
    "\n",
    "5. Dictionaries  =======> dict"
   ]
  },
  {
   "cell_type": "code",
   "execution_count": null,
   "id": "e043a979-6e21-4935-a9ba-a6d0f721bd13",
   "metadata": {},
   "outputs": [],
   "source": []
  },
  {
   "cell_type": "code",
   "execution_count": null,
   "id": "16c816ce-4e8c-4176-a0f6-374ebc51c64b",
   "metadata": {},
   "outputs": [],
   "source": [
    "Classification of datatypes :\n",
    "\n",
    "Broadly datatypes are classified in to two categeories :\n",
    "\n",
    "1. mutable datatypes     ======> which we can be able to edit / alter     \n",
    "\n",
    "2. immutable datatypes   ======> which we cannot be able to edit / alter  "
   ]
  },
  {
   "cell_type": "code",
   "execution_count": null,
   "id": "ead23fba-fe33-4803-ae19-edb073e03ef3",
   "metadata": {},
   "outputs": [],
   "source": []
  },
  {
   "cell_type": "code",
   "execution_count": null,
   "id": "ab2a5694-135e-4191-b133-5ddb77f74c6b",
   "metadata": {},
   "outputs": [],
   "source": [
    "Introduction to string datatype :\n",
    "\n",
    "Defination     : A string is a series of characters daclared in quotes.\n",
    "\n",
    "Classification : It is classified as an immutable datatype.\n",
    "\n",
    "how to declare the string datatype --------> ?\n",
    "\n",
    "1. Single quote =====> '  '\n",
    "\n",
    "2. Double quote =====> \"  \""
   ]
  },
  {
   "cell_type": "code",
   "execution_count": null,
   "id": "569fa24c-9557-474f-bffd-22dde1e58dbe",
   "metadata": {},
   "outputs": [],
   "source": []
  },
  {
   "cell_type": "code",
   "execution_count": 25,
   "id": "bf21b2b4-de29-4b72-9284-de19e9266248",
   "metadata": {},
   "outputs": [
    {
     "name": "stdout",
     "output_type": "stream",
     "text": [
      "muskan\n"
     ]
    }
   ],
   "source": [
    "name = 'muskan'    # single quote\n",
    "\n",
    "print(name)"
   ]
  },
  {
   "cell_type": "code",
   "execution_count": null,
   "id": "1293d35c-b709-4b8c-a698-4e83c2bae6a3",
   "metadata": {},
   "outputs": [],
   "source": []
  },
  {
   "cell_type": "code",
   "execution_count": 27,
   "id": "45460b25-a438-4948-a20d-5d74a407035c",
   "metadata": {},
   "outputs": [
    {
     "name": "stdout",
     "output_type": "stream",
     "text": [
      "dinesh\n"
     ]
    }
   ],
   "source": [
    "name = \"dinesh\"    # double quote\n",
    "\n",
    "print(name)"
   ]
  },
  {
   "cell_type": "code",
   "execution_count": null,
   "id": "387436d3-a201-434f-98a8-ffbe48e7f750",
   "metadata": {},
   "outputs": [],
   "source": []
  }
 ],
 "metadata": {
  "kernelspec": {
   "display_name": "Python 3 (ipykernel)",
   "language": "python",
   "name": "python3"
  },
  "language_info": {
   "codemirror_mode": {
    "name": "ipython",
    "version": 3
   },
   "file_extension": ".py",
   "mimetype": "text/x-python",
   "name": "python",
   "nbconvert_exporter": "python",
   "pygments_lexer": "ipython3",
   "version": "3.12.4"
  }
 },
 "nbformat": 4,
 "nbformat_minor": 5
}
